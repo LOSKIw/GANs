{
 "nbformat": 4,
 "nbformat_minor": 2,
 "metadata": {
  "language_info": {
   "name": "python",
   "codemirror_mode": {
    "name": "ipython",
    "version": 3
   }
  },
  "orig_nbformat": 2,
  "file_extension": ".py",
  "mimetype": "text/x-python",
  "name": "python",
  "npconvert_exporter": "python",
  "pygments_lexer": "ipython3",
  "version": 3
 },
 "cells": [
  {
   "cell_type": "code",
   "execution_count": 1,
   "metadata": {},
   "outputs": [],
   "source": [
    "import numpy as np\n",
    "import matplotlib.pyplot as plt\n",
    "import torch\n",
    "import torchvision\n",
    "import torch.nn as nn\n",
    "import torch.nn.functional as F\n",
    "from torchvision import datasets\n",
    "from torchvision import transforms\n",
    "from torchvision.utils import save_image\n",
    "from torch.autograd import Variable\n",
    "import os"
   ]
  },
  {
   "cell_type": "code",
   "execution_count": 2,
   "metadata": {},
   "outputs": [],
   "source": [
    "batch_size=96\n",
    "epoch_num=1000\n",
    "z_size=110"
   ]
  },
  {
   "cell_type": "code",
   "execution_count": 3,
   "metadata": {},
   "outputs": [],
   "source": [
    "transform=transforms.Compose([\n",
    "    transforms.ToTensor(),\n",
    "    transforms.Normalize(mean=[0.5],std=[0.5])\n",
    "])"
   ]
  },
  {
   "cell_type": "code",
   "execution_count": 4,
   "metadata": {},
   "outputs": [],
   "source": [
    "mnist=datasets.MNIST('./data/',train=True,transform=transform,download=True)\n",
    "dataloader=torch.utils.data.DataLoader(mnist,batch_size=batch_size,shuffle=True)"
   ]
  },
  {
   "cell_type": "code",
   "execution_count": 5,
   "metadata": {},
   "outputs": [],
   "source": [
    "def to_img(x):\n",
    "    out=0.5*(x+1)\n",
    "    out=out.clamp(0,1)\n",
    "    out=out.view(-1,1,28,28)\n",
    "    return out"
   ]
  },
  {
   "cell_type": "code",
   "execution_count": 6,
   "metadata": {},
   "outputs": [],
   "source": [
    "def save_img(real,fake,n):\n",
    "    imgr=to_img(real)\n",
    "    imgr=imgr.numpy()\n",
    "    imgf=to_img(fake)\n",
    "    imgf=imgf.numpy()\n",
    "    empty=[]\n",
    "    count=0\n",
    "    for i,j in zip(imgr,imgf):\n",
    "        empty.append(i)\n",
    "        empty.append(j)\n",
    "        empty.append(np.zeros([1,28,28]))\n",
    "        count+=1\n",
    "        if count%8==0:\n",
    "            empty.pop()\n",
    "    empty=np.array(empty)\n",
    "    empty=torch.from_numpy(empty)\n",
    "    save_image(empty,'./CGAN_MNIST-img/R&F_Epoch-{}.png'.format(n),nrow=23)"
   ]
  },
  {
   "cell_type": "code",
   "execution_count": 7,
   "metadata": {},
   "outputs": [],
   "source": [
    "class discriminator(nn.Module):\n",
    "    def __init__(self):\n",
    "        super(discriminator,self).__init__()\n",
    "        self.dis = nn.Sequential(\n",
    "            nn.Linear(784,256),\n",
    "            nn.LeakyReLU(0.2),\n",
    "            nn.Linear(256, 256),\n",
    "            nn.LeakyReLU(0.2),\n",
    "            nn.Linear(256, 10), \n",
    "            nn.Sigmoid()\n",
    "        )\n",
    "    \n",
    "    def forward(self,x):\n",
    "        x=self.dis(x)\n",
    "        return x"
   ]
  },
  {
   "cell_type": "code",
   "execution_count": 8,
   "metadata": {},
   "outputs": [],
   "source": [
    "class generator(nn.Module):\n",
    "    def __init__(self):\n",
    "        super(generator,self).__init__()\n",
    "        self.gen = nn.Sequential(\n",
    "            nn.Linear(110, 256),\n",
    "            nn.LeakyReLU(0.2),\n",
    "            nn.Dropout(0.5),\n",
    "            nn.Linear(256, 256), \n",
    "            nn.LeakyReLU(0.2), \n",
    "            nn.Dropout(0.5),\n",
    "            nn.Linear(256, 784), \n",
    "            nn.Tanh()\n",
    "            )\n",
    "    \n",
    "    def forward(self,x):\n",
    "        x=self.gen(x)\n",
    "        return x"
   ]
  },
  {
   "cell_type": "code",
   "execution_count": 9,
   "metadata": {},
   "outputs": [],
   "source": [
    "G=generator()\n",
    "D=discriminator()\n",
    "criterion = nn.BCELoss()\n",
    "g_optimizer=torch.optim.Adam(G.parameters(),lr=0.0003)\n",
    "d_optimizer=torch.optim.SGD(D.parameters(),lr=0.0003)"
   ]
  },
  {
   "cell_type": "code",
   "execution_count": 10,
   "metadata": {},
   "outputs": [],
   "source": [
    "loss_G=[]\n",
    "loss_D=[]\n",
    "for epoch in range(epoch_num):\n",
    "    for i,(img,label) in enumerate(dataloader):\n",
    "        num_img=img.size(0)\n",
    "        \n",
    "        img=img.view(num_img,-1)\n",
    "        #真实数据添加随训练衰弱的噪声\n",
    "        for simg in img:\n",
    "            simg+=torch.randn([784])*(1-(epoch+1)/epoch_num)\n",
    "        real_img=Variable(img)\n",
    "        #添加了随机浮动的onehot\n",
    "        label_onehot=np.zeros((num_img,10))\n",
    "        label_onehot[np.arange(num_img),label.numpy()]=np.random.randint(7,12)/10\n",
    "\n",
    "        real_label=Variable(torch.from_numpy(label_onehot).float())\n",
    "        fake_label=Variable(torch.from_numpy(np.random.randint(0,4,(num_img,10))/10).float())\n",
    "\n",
    "        real_out=D(real_img)\n",
    "        d_loss_real=criterion(real_out,real_label)\n",
    "        real_scores=d_loss_real\n",
    "\n",
    "        z=Variable(torch.randn((num_img,z_size)))\n",
    "        z=G(z)\n",
    "        fake_out=D(z)\n",
    "        d_loss_fake=criterion(fake_out,fake_label)\n",
    "        fake_scores=d_loss_fake\n",
    "\n",
    "        d_loss=fake_scores+real_scores\n",
    "        d_optimizer.zero_grad()\n",
    "        d_loss.backward()\n",
    "        d_optimizer.step()\n",
    "\n",
    "        loss_D.append(d_loss.item())\n",
    "\n",
    "        z=torch.randn((num_img,100))\n",
    "        z=np.concatenate((z.numpy(),label_onehot),axis=1)\n",
    "        z=Variable(torch.from_numpy(z).float())\n",
    "        fake_img=G(z)\n",
    "        output=D(fake_img)\n",
    "\n",
    "        g_loss=criterion(output,real_label)\n",
    "        g_optimizer.zero_grad()\n",
    "        g_loss.backward()\n",
    "        g_optimizer.step()\n",
    "\n",
    "        loss_G.append(g_loss.item())\n",
    "\n",
    "    if (epoch+1)%50==0 :\n",
    "        print('Epoch:{}/{}, Discriminator loss:{:.6f}, Generator loss:{:.6f},'.format(\n",
    "            epoch+1,epoch_num,d_loss.item(),g_loss.item())\n",
    "        )\n",
    "        real_img=real_img.data\n",
    "        fake_img=fake_img.data\n",
    "        save_img(real_img,fake_img,epoch+1)\n",
    "    \n",
    "    if (epoch+1)%100==0 :\n",
    "        plt.subplot(1,2,1)\n",
    "        plt.plot(np.arange(len(loss_G)),loss_G)\n",
    "        plt.title('G_loss')\n",
    "        plt.subplot(1,2,2)\n",
    "        plt.plot(np.arange(len(loss_D)),loss_D)\n",
    "        plt.title('D_loss')\n",
    "        plt.savefig('./CGAN_MNIST-img/Loss_epoch{}.png'.format(epoch+1))\n",
    "        plt.close('all')\n",
    "torch.save(G.state_dict(),'./generator.pth')\n",
    "torch.save(D.state_dict(), './discriminator.pth')"
   ]
  }
 ]
}