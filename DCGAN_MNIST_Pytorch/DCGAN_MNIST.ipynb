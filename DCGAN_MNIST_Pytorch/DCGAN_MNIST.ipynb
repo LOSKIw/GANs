{
 "nbformat": 4,
 "nbformat_minor": 2,
 "metadata": {
  "language_info": {
   "name": "python",
   "codemirror_mode": {
    "name": "ipython",
    "version": 3
   }
  },
  "orig_nbformat": 2,
  "file_extension": ".py",
  "mimetype": "text/x-python",
  "name": "python",
  "npconvert_exporter": "python",
  "pygments_lexer": "ipython3",
  "version": 3
 },
 "cells": [
  {
   "cell_type": "code",
   "execution_count": 1,
   "metadata": {},
   "outputs": [],
   "source": [
    "import numpy as np\n",
    "import matplotlib.pyplot as plt\n",
    "import torch\n",
    "import torchvision\n",
    "import torch.nn as nn\n",
    "import torch.nn.functional as F\n",
    "from torchvision import datasets\n",
    "from torchvision import transforms\n",
    "from torchvision.utils import save_image\n",
    "from torch.autograd import Variable\n",
    "import os\n",
    "import time"
   ]
  },
  {
   "cell_type": "code",
   "execution_count": 2,
   "metadata": {},
   "outputs": [],
   "source": [
    "batch_size=128\n",
    "epoch_num=10\n",
    "z_size=100\n",
    "input_size=3136"
   ]
  },
  {
   "cell_type": "code",
   "execution_count": 3,
   "metadata": {},
   "outputs": [],
   "source": [
    "transform=transforms.Compose([\n",
    "    transforms.ToTensor(),\n",
    "    transforms.Normalize(mean=[0.5],std=[0.5])\n",
    "])"
   ]
  },
  {
   "cell_type": "code",
   "execution_count": 4,
   "metadata": {},
   "outputs": [],
   "source": [
    "mnist=datasets.MNIST('./data/',train=True,transform=transform,download=True)\n",
    "dataloader=torch.utils.data.DataLoader(mnist,batch_size=batch_size,shuffle=True)"
   ]
  },
  {
   "cell_type": "code",
   "execution_count": 5,
   "metadata": {},
   "outputs": [],
   "source": [
    "def to_img(x):\n",
    "    out=0.5*(x+1)\n",
    "    out=out.clamp(0,1)\n",
    "    out=out.view(-1,1,28,28)\n",
    "    return out"
   ]
  },
  {
   "cell_type": "code",
   "execution_count": 6,
   "metadata": {},
   "outputs": [],
   "source": [
    "def save_img(real,fake,n):\n",
    "    imgr=to_img(real)\n",
    "    imgr=imgr.numpy()\n",
    "    imgf=to_img(fake)\n",
    "    imgf=imgf.numpy()\n",
    "    empty=[]\n",
    "    count=0\n",
    "    for i,j in zip(imgr,imgf):\n",
    "        empty.append(i)\n",
    "        empty.append(j)\n",
    "        empty.append(np.zeros([1,28,28]))\n",
    "        count+=1\n",
    "        if count%8==0:\n",
    "            empty.pop()\n",
    "        if count==96:\n",
    "            break\n",
    "    empty=np.array(empty)\n",
    "    empty=torch.from_numpy(empty)\n",
    "    save_image(empty,'./DCGAN-MNIST-img/R&F_Epoch-{}.png'.format(n),nrow=23)"
   ]
  },
  {
   "cell_type": "code",
   "execution_count": 7,
   "metadata": {},
   "outputs": [],
   "source": [
    "class discriminator(nn.Module):\n",
    "    def __init__(self):\n",
    "        super(discriminator,self).__init__()\n",
    "        self.dis=nn.Sequential(\n",
    "            nn.Conv2d(1,32,5,stride=1,padding=2),\n",
    "            nn.LeakyReLU(0.2,True),\n",
    "            nn.MaxPool2d((2,2)),\n",
    " \n",
    "            nn.Conv2d(32,64,5,stride=1,padding=2),\n",
    "            nn.LeakyReLU(0.2,True),\n",
    "            nn.MaxPool2d((2,2))\n",
    "        )\n",
    "        self.fc=nn.Sequential(\n",
    "            nn.Linear(7 * 7 * 64, 1024),\n",
    "            nn.LeakyReLU(0.2, True),\n",
    "            nn.Linear(1024, 1),\n",
    "            nn.Sigmoid()\n",
    "        )\n",
    "    def forward(self, x):\n",
    "        x=self.dis(x)\n",
    "        x=x.view(x.size(0),-1)\n",
    "        x=self.fc(x)\n",
    "        return x\n"
   ]
  },
  {
   "cell_type": "code",
   "execution_count": 8,
   "metadata": {},
   "outputs": [],
   "source": [
    "class generator(nn.Module):\n",
    "    def __init__(self,input_size,num_feature):\n",
    "        super(generator,self).__init__()\n",
    "        self.fc=nn.Linear(input_size,num_feature) #1*56*56\n",
    "        self.br=nn.Sequential(\n",
    "            nn.BatchNorm2d(1),\n",
    "            nn.LeakyReLU(0.2,True)\n",
    "        )\n",
    "        self.gen=nn.Sequential(\n",
    "            nn.Conv2d(1,50,3,stride=1,padding=1),\n",
    "            nn.BatchNorm2d(50),\n",
    "            nn.LeakyReLU(0.2,True),\n",
    " \n",
    "            nn.Conv2d(50,25,3,stride=1,padding=1),\n",
    "            nn.BatchNorm2d(25),\n",
    "            nn.LeakyReLU(0.2,True),\n",
    " \n",
    "            nn.Conv2d(25,1,2,stride=2),\n",
    "            nn.Tanh()\n",
    "        )\n",
    "    def forward(self, x):\n",
    "        x=self.fc(x)\n",
    "        x=x.view(x.size(0),1,56,56)\n",
    "        x=self.br(x)\n",
    "        x=self.gen(x)\n",
    "        return x\n"
   ]
  },
  {
   "cell_type": "code",
   "execution_count": 9,
   "metadata": {},
   "outputs": [],
   "source": [
    "G=generator(z_size,input_size)\n",
    "D=discriminator()\n",
    "criterion = nn.BCELoss()\n",
    "g_optimizer=torch.optim.Adam(G.parameters(),lr=0.0002)\n",
    "d_optimizer=torch.optim.SGD(D.parameters(),lr=0.0002)"
   ]
  },
  {
   "cell_type": "code",
   "execution_count": 10,
   "metadata": {},
   "outputs": [
    {
     "name": "stderr",
     "output_type": "stream",
     "text": "C:\\Users\\59651\\Anaconda3\\lib\\site-packages\\torch\\nn\\modules\\loss.py:498: UserWarning: Using a target size (torch.Size([128])) that is different to the input size (torch.Size([128, 1])) is deprecated. Please ensure they have the same size.\n  return F.binary_cross_entropy(input, target, weight=self.weight, reduction=self.reduction)\nEpoch: 1 batch: 468/469 | 99.79%, Time:3601.49C:\\Users\\59651\\Anaconda3\\lib\\site-packages\\torch\\nn\\modules\\loss.py:498: UserWarning: Using a target size (torch.Size([128])) that is different to the input size (torch.Size([96, 1])) is deprecated. Please ensure they have the same size.\n  return F.binary_cross_entropy(input, target, weight=self.weight, reduction=self.reduction)\n"
    },
    {
     "ename": "ValueError",
     "evalue": "Target and input must have the same number of elements. target nelement (128) != input nelement (96)",
     "output_type": "error",
     "traceback": [
      "\u001b[1;31m---------------------------------------------------------------------------\u001b[0m",
      "\u001b[1;31mValueError\u001b[0m                                Traceback (most recent call last)",
      "\u001b[1;32m<ipython-input-10-96276f2a24ad>\u001b[0m in \u001b[0;36m<module>\u001b[1;34m\u001b[0m\n\u001b[0;32m     23\u001b[0m \u001b[1;33m\u001b[0m\u001b[0m\n\u001b[0;32m     24\u001b[0m         \u001b[0mreal_out\u001b[0m\u001b[1;33m=\u001b[0m\u001b[0mD\u001b[0m\u001b[1;33m(\u001b[0m\u001b[0mreal_img\u001b[0m\u001b[1;33m)\u001b[0m\u001b[1;33m\u001b[0m\u001b[1;33m\u001b[0m\u001b[0m\n\u001b[1;32m---> 25\u001b[1;33m         \u001b[0md_loss_real\u001b[0m\u001b[1;33m=\u001b[0m\u001b[0mcriterion\u001b[0m\u001b[1;33m(\u001b[0m\u001b[0mreal_out\u001b[0m\u001b[1;33m,\u001b[0m\u001b[0mreal_label\u001b[0m\u001b[1;33m)\u001b[0m\u001b[1;33m\u001b[0m\u001b[1;33m\u001b[0m\u001b[0m\n\u001b[0m\u001b[0;32m     26\u001b[0m         \u001b[0mreal_scores\u001b[0m\u001b[1;33m=\u001b[0m\u001b[0md_loss_real\u001b[0m\u001b[1;33m\u001b[0m\u001b[1;33m\u001b[0m\u001b[0m\n\u001b[0;32m     27\u001b[0m \u001b[1;33m\u001b[0m\u001b[0m\n",
      "\u001b[1;32m~\\Anaconda3\\lib\\site-packages\\torch\\nn\\modules\\module.py\u001b[0m in \u001b[0;36m__call__\u001b[1;34m(self, *input, **kwargs)\u001b[0m\n\u001b[0;32m    539\u001b[0m             \u001b[0mresult\u001b[0m \u001b[1;33m=\u001b[0m \u001b[0mself\u001b[0m\u001b[1;33m.\u001b[0m\u001b[0m_slow_forward\u001b[0m\u001b[1;33m(\u001b[0m\u001b[1;33m*\u001b[0m\u001b[0minput\u001b[0m\u001b[1;33m,\u001b[0m \u001b[1;33m**\u001b[0m\u001b[0mkwargs\u001b[0m\u001b[1;33m)\u001b[0m\u001b[1;33m\u001b[0m\u001b[1;33m\u001b[0m\u001b[0m\n\u001b[0;32m    540\u001b[0m         \u001b[1;32melse\u001b[0m\u001b[1;33m:\u001b[0m\u001b[1;33m\u001b[0m\u001b[1;33m\u001b[0m\u001b[0m\n\u001b[1;32m--> 541\u001b[1;33m             \u001b[0mresult\u001b[0m \u001b[1;33m=\u001b[0m \u001b[0mself\u001b[0m\u001b[1;33m.\u001b[0m\u001b[0mforward\u001b[0m\u001b[1;33m(\u001b[0m\u001b[1;33m*\u001b[0m\u001b[0minput\u001b[0m\u001b[1;33m,\u001b[0m \u001b[1;33m**\u001b[0m\u001b[0mkwargs\u001b[0m\u001b[1;33m)\u001b[0m\u001b[1;33m\u001b[0m\u001b[1;33m\u001b[0m\u001b[0m\n\u001b[0m\u001b[0;32m    542\u001b[0m         \u001b[1;32mfor\u001b[0m \u001b[0mhook\u001b[0m \u001b[1;32min\u001b[0m \u001b[0mself\u001b[0m\u001b[1;33m.\u001b[0m\u001b[0m_forward_hooks\u001b[0m\u001b[1;33m.\u001b[0m\u001b[0mvalues\u001b[0m\u001b[1;33m(\u001b[0m\u001b[1;33m)\u001b[0m\u001b[1;33m:\u001b[0m\u001b[1;33m\u001b[0m\u001b[1;33m\u001b[0m\u001b[0m\n\u001b[0;32m    543\u001b[0m             \u001b[0mhook_result\u001b[0m \u001b[1;33m=\u001b[0m \u001b[0mhook\u001b[0m\u001b[1;33m(\u001b[0m\u001b[0mself\u001b[0m\u001b[1;33m,\u001b[0m \u001b[0minput\u001b[0m\u001b[1;33m,\u001b[0m \u001b[0mresult\u001b[0m\u001b[1;33m)\u001b[0m\u001b[1;33m\u001b[0m\u001b[1;33m\u001b[0m\u001b[0m\n",
      "\u001b[1;32m~\\Anaconda3\\lib\\site-packages\\torch\\nn\\modules\\loss.py\u001b[0m in \u001b[0;36mforward\u001b[1;34m(self, input, target)\u001b[0m\n\u001b[0;32m    496\u001b[0m \u001b[1;33m\u001b[0m\u001b[0m\n\u001b[0;32m    497\u001b[0m     \u001b[1;32mdef\u001b[0m \u001b[0mforward\u001b[0m\u001b[1;33m(\u001b[0m\u001b[0mself\u001b[0m\u001b[1;33m,\u001b[0m \u001b[0minput\u001b[0m\u001b[1;33m,\u001b[0m \u001b[0mtarget\u001b[0m\u001b[1;33m)\u001b[0m\u001b[1;33m:\u001b[0m\u001b[1;33m\u001b[0m\u001b[1;33m\u001b[0m\u001b[0m\n\u001b[1;32m--> 498\u001b[1;33m         \u001b[1;32mreturn\u001b[0m \u001b[0mF\u001b[0m\u001b[1;33m.\u001b[0m\u001b[0mbinary_cross_entropy\u001b[0m\u001b[1;33m(\u001b[0m\u001b[0minput\u001b[0m\u001b[1;33m,\u001b[0m \u001b[0mtarget\u001b[0m\u001b[1;33m,\u001b[0m \u001b[0mweight\u001b[0m\u001b[1;33m=\u001b[0m\u001b[0mself\u001b[0m\u001b[1;33m.\u001b[0m\u001b[0mweight\u001b[0m\u001b[1;33m,\u001b[0m \u001b[0mreduction\u001b[0m\u001b[1;33m=\u001b[0m\u001b[0mself\u001b[0m\u001b[1;33m.\u001b[0m\u001b[0mreduction\u001b[0m\u001b[1;33m)\u001b[0m\u001b[1;33m\u001b[0m\u001b[1;33m\u001b[0m\u001b[0m\n\u001b[0m\u001b[0;32m    499\u001b[0m \u001b[1;33m\u001b[0m\u001b[0m\n\u001b[0;32m    500\u001b[0m \u001b[1;33m\u001b[0m\u001b[0m\n",
      "\u001b[1;32m~\\Anaconda3\\lib\\site-packages\\torch\\nn\\functional.py\u001b[0m in \u001b[0;36mbinary_cross_entropy\u001b[1;34m(input, target, weight, size_average, reduce, reduction)\u001b[0m\n\u001b[0;32m   2056\u001b[0m     \u001b[1;32mif\u001b[0m \u001b[0minput\u001b[0m\u001b[1;33m.\u001b[0m\u001b[0mnumel\u001b[0m\u001b[1;33m(\u001b[0m\u001b[1;33m)\u001b[0m \u001b[1;33m!=\u001b[0m \u001b[0mtarget\u001b[0m\u001b[1;33m.\u001b[0m\u001b[0mnumel\u001b[0m\u001b[1;33m(\u001b[0m\u001b[1;33m)\u001b[0m\u001b[1;33m:\u001b[0m\u001b[1;33m\u001b[0m\u001b[1;33m\u001b[0m\u001b[0m\n\u001b[0;32m   2057\u001b[0m         raise ValueError(\"Target and input must have the same number of elements. target nelement ({}) \"\n\u001b[1;32m-> 2058\u001b[1;33m                          \"!= input nelement ({})\".format(target.numel(), input.numel()))\n\u001b[0m\u001b[0;32m   2059\u001b[0m \u001b[1;33m\u001b[0m\u001b[0m\n\u001b[0;32m   2060\u001b[0m     \u001b[1;32mif\u001b[0m \u001b[0mweight\u001b[0m \u001b[1;32mis\u001b[0m \u001b[1;32mnot\u001b[0m \u001b[1;32mNone\u001b[0m\u001b[1;33m:\u001b[0m\u001b[1;33m\u001b[0m\u001b[1;33m\u001b[0m\u001b[0m\n",
      "\u001b[1;31mValueError\u001b[0m: Target and input must have the same number of elements. target nelement (128) != input nelement (96)"
     ]
    }
   ],
   "source": [
    "loss_G=[]\n",
    "loss_D=[]\n",
    "\n",
    "for epoch in range(epoch_num):\n",
    "    start2 = time.time()\n",
    "    start1 = time.time()\n",
    "    for i,(img,label) in enumerate(dataloader):\n",
    "        \n",
    "        num_img=img.size(0)\n",
    "        \n",
    "        #img=img.view(num_img,-1)\n",
    "        '''\n",
    "        #噪声\n",
    "        for simg in img:\n",
    "            simg+=torch.randn([784])*(1-(epoch+1)/epoch_num)\n",
    "        '''\n",
    "        for s in img:\n",
    "            s+=torch.randn([28,28])*(1-(epoch+1)/epoch_num)\n",
    "        real_img=Variable(img)\n",
    "\n",
    "        real_label=Variable(torch.ones(num_img))\n",
    "        fake_label=Variable(torch.zeros(num_img))\n",
    "        \n",
    "        real_out=D(real_img)\n",
    "        d_loss_real=criterion(real_out,real_label)\n",
    "        real_scores=d_loss_real\n",
    "\n",
    "        z=Variable(torch.randn((num_img,z_size)))\n",
    "        z=G(z)\n",
    "        fake_out=D(z)\n",
    "        d_loss_fake=criterion(fake_out,fake_label)\n",
    "        fake_scores=d_loss_fake\n",
    "\n",
    "        d_loss=fake_scores+real_scores\n",
    "        d_optimizer.zero_grad()\n",
    "        d_loss.backward()\n",
    "        d_optimizer.step()\n",
    "\n",
    "        loss_D.append(d_loss.item())\n",
    "\n",
    "        z=Variable(torch.randn((num_img,z_size)))\n",
    "        fake_img=G(z)\n",
    "        output=D(fake_img)\n",
    "\n",
    "        g_loss=criterion(output,real_label)\n",
    "        g_optimizer.zero_grad()\n",
    "        g_loss.backward()\n",
    "        g_optimizer.step()\n",
    "\n",
    "        loss_G.append(g_loss.item())\n",
    "\n",
    "        tm = time.time() - start1\n",
    "        print(\"\\rEpoch: {:d} batch: {:d}/{:d} | {:.2%}, Time:{:.2f}\"\\\n",
    "            .format(epoch+1, i+1, len(dataloader), (i+1)*1.0/len(dataloader),tm), end='')\n",
    "\n",
    "    \n",
    "    if (epoch+1)%1==0:\n",
    "        tm = time.time() - start2\n",
    "        start2 = time.time()\n",
    "        print('\\rEpoch:{}/{}, Discriminator loss:{:.6f}, Generator loss:{:.6f}, Time:{:.2f}\\n'.format(\n",
    "            epoch+1,epoch_num,d_loss.item(),g_loss.item(),tm)\n",
    "        )\n",
    "        real_img=real_img.data\n",
    "        fake_img=fake_img.data\n",
    "        save_img(real_img,fake_img,epoch+1)\n",
    "    \n",
    "    if (epoch+1)%1==0 :\n",
    "        plt.subplot(2,1,1)\n",
    "        plt.plot(np.arange(len(loss_G)),loss_G)\n",
    "        plt.title('G_loss')\n",
    "        plt.subplot(2,1,2)\n",
    "        plt.plot(np.arange(len(loss_D)),loss_D)\n",
    "        plt.title('D_loss')\n",
    "        plt.savefig('./DCGAN-MNIST-img/Loss_epoch{}.png'.format(epoch+1))\n",
    "        plt.close('all')\n",
    "\n",
    "torch.save(G.state_dict(),'./generator.pth')\n",
    "torch.save(D.state_dict(), './discriminator.pth')"
   ]
  },
  {
   "cell_type": "code",
   "execution_count": null,
   "metadata": {},
   "outputs": [],
   "source": []
  }
 ]
}